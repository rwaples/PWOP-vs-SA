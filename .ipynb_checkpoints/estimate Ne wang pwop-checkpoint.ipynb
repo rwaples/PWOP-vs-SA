{
 "cells": [
  {
   "cell_type": "code",
   "execution_count": 1,
   "metadata": {
    "collapsed": true
   },
   "outputs": [],
   "source": [
    "import numpy as np\n",
    "from __future__ import division\n",
    "import itertools\n",
    "import collections"
   ]
  },
  {
   "cell_type": "markdown",
   "metadata": {},
   "source": [
    "## PWOP\n",
    "generates an Ne estimate from a vector of K_i values\n",
    "\n",
    "From Waples (2011) equation 2a"
   ]
  },
  {
   "cell_type": "code",
   "execution_count": 17,
   "metadata": {
    "collapsed": true
   },
   "outputs": [],
   "source": [
    "def pwop(k_i):\n",
    "    assert type(k_i) is np.ndarray\n",
    "    print '{} contributing parents'.format(len(k_i))\n",
    "    print '{} gametes'.format(np.sum(k_i))\n",
    "    numerator = np.sum(k_i)-1\n",
    "    denominator = np.sum(k_i**2)/np.sum(k_i) - 1\n",
    "    Ne = numerator/denominator \n",
    "    return(Ne)"
   ]
  },
  {
   "cell_type": "markdown",
   "metadata": {},
   "source": [
    "#### example"
   ]
  },
  {
   "cell_type": "code",
   "execution_count": 3,
   "metadata": {
    "collapsed": false
   },
   "outputs": [
    {
     "data": {
      "text/plain": [
       "array([2, 2, 3, 7, 2, 5, 1])"
      ]
     },
     "execution_count": 3,
     "metadata": {},
     "output_type": "execute_result"
    }
   ],
   "source": [
    "K_i = np.array([2,2,3,7,2,5,1])\n",
    "K_i"
   ]
  },
  {
   "cell_type": "code",
   "execution_count": 4,
   "metadata": {
    "collapsed": false
   },
   "outputs": [
    {
     "name": "stdout",
     "output_type": "stream",
     "text": [
      "7 contributing parents\n",
      "22 gametes\n"
     ]
    },
    {
     "data": {
      "text/plain": [
       "6.2432432432432439"
      ]
     },
     "execution_count": 4,
     "metadata": {},
     "output_type": "execute_result"
    }
   ],
   "source": [
    "pwop(K_i)"
   ]
  },
  {
   "cell_type": "markdown",
   "metadata": {},
   "source": [
    "## p_share\n",
    "calculates the probability that two gametes taken at random from a sample specified by a K_i vector share the same parent"
   ]
  },
  {
   "cell_type": "code",
   "execution_count": 5,
   "metadata": {
    "collapsed": true
   },
   "outputs": [],
   "source": [
    "def p_share(k_i):\n",
    "    \"\"\"chance two random gametes present in the offspring generation are from the same parent\"\"\"\n",
    "    N = np.int(np.sum(k_i)) # number of offspring or parents\n",
    "    print '{} contributing parents'.format(len(k_i))\n",
    "    print '{} gametes'.format(N)\n",
    "    p = 1./(N*(N-1)) * np.sum(k_i*(k_i-1))\n",
    "    return(p)"
   ]
  },
  {
   "cell_type": "markdown",
   "metadata": {},
   "source": [
    "#### example"
   ]
  },
  {
   "cell_type": "code",
   "execution_count": 6,
   "metadata": {
    "collapsed": false
   },
   "outputs": [
    {
     "data": {
      "text/plain": [
       "array([2, 2, 3, 7, 2, 5, 1])"
      ]
     },
     "execution_count": 6,
     "metadata": {},
     "output_type": "execute_result"
    }
   ],
   "source": [
    "K_i"
   ]
  },
  {
   "cell_type": "code",
   "execution_count": 7,
   "metadata": {
    "collapsed": false
   },
   "outputs": [
    {
     "name": "stdout",
     "output_type": "stream",
     "text": [
      "7 contributing parents\n",
      "22 gametes\n"
     ]
    },
    {
     "data": {
      "text/plain": [
       "0.16017316017316016"
      ]
     },
     "execution_count": 7,
     "metadata": {},
     "output_type": "execute_result"
    }
   ],
   "source": [
    "p_share(K_i)"
   ]
  },
  {
   "cell_type": "markdown",
   "metadata": {},
   "source": [
    "## Wang 2009\n",
    "simplified version of Wang (2009) eq. 10\n",
    "\n",
    "\n",
    "\n",
    "- p_same_parent = the chance that two random gametes are from the same parent \n",
    "- p_same_parent is eqivalent to  (Q1+Q2+2*Q3)/2 - see Wang eq. 8\n",
    "- p_same_parent/2 = the chance that two random gametes are identical by descent\n",
    "- assumes alpha = 0 (i.e. Fis = 0)\n",
    "- there is also an additional factor of 1/2, as we are dealing with gametes instead of individuals\n",
    "\n",
    "This is basically the definition of inbreeding Ne\n",
    "\n",
    "Wang notes that α = 1/(1 − 2Ne) in a randomly mating population"
   ]
  },
  {
   "cell_type": "code",
   "execution_count": 8,
   "metadata": {
    "collapsed": true
   },
   "outputs": [],
   "source": [
    "def wang(p_same_parent):\n",
    "    \"\"\"Given the chance that two random gametes share a parent, return the Ne\"\"\"\n",
    "    Ne = 1./p_same_parent\n",
    "    return(Ne)"
   ]
  },
  {
   "cell_type": "code",
   "execution_count": 9,
   "metadata": {
    "collapsed": false
   },
   "outputs": [
    {
     "name": "stdout",
     "output_type": "stream",
     "text": [
      "7 contributing parents\n",
      "22 gametes\n"
     ]
    },
    {
     "data": {
      "text/plain": [
       "6.243243243243244"
      ]
     },
     "execution_count": 9,
     "metadata": {},
     "output_type": "execute_result"
    }
   ],
   "source": [
    "wang(p_share(K_i))"
   ]
  },
  {
   "cell_type": "markdown",
   "metadata": {},
   "source": [
    "## Simulate an ideal mating population\n",
    "Generates the K_i vector from one generation of random mating of N parents producing N offspring (2N gametes)"
   ]
  },
  {
   "cell_type": "code",
   "execution_count": 10,
   "metadata": {
    "collapsed": true
   },
   "outputs": [],
   "source": [
    "def sim_ideal(N):\n",
    "    \"\"\"Generates the K_i vector from one generation of random mating of N parents\"\"\"\n",
    "    a = collections.defaultdict(int)\n",
    "    for xx in np.random.randint(0, N, 2*N): # For each of 2N gametes select a parent\n",
    "        a[xx]+=1 # assign the gamete to that parent\n",
    "    k_i = np.array(a.values())\n",
    "    print '{} contributing parents'.format(len(k_i))\n",
    "    print '{} gametes'.format(np.sum(k_i))\n",
    "    return(k_i)"
   ]
  },
  {
   "cell_type": "code",
   "execution_count": 11,
   "metadata": {
    "collapsed": false
   },
   "outputs": [
    {
     "name": "stdout",
     "output_type": "stream",
     "text": [
      "175 contributing parents\n",
      "400 gametes\n"
     ]
    },
    {
     "data": {
      "text/plain": [
       "array([5, 2, 4, 1, 2, 3, 1, 1, 1, 3, 1, 3, 1, 2, 5, 2, 7, 1, 1, 3, 3, 1, 2,\n",
       "       2, 2, 2, 1, 2, 1, 1, 3, 3, 1, 1, 3, 1, 2, 2, 3, 1, 1, 4, 1, 1, 5, 5,\n",
       "       2, 3, 1, 3, 5, 2, 2, 2, 4, 4, 2, 3, 3, 1, 3, 3, 1, 1, 1, 2, 1, 4, 2,\n",
       "       1, 4, 1, 1, 5, 4, 1, 3, 4, 3, 2, 3, 2, 3, 3, 4, 2, 1, 1, 3, 3, 2, 1,\n",
       "       4, 4, 3, 2, 1, 1, 3, 1, 1, 1, 5, 2, 3, 1, 1, 2, 1, 3, 3, 3, 2, 1, 3,\n",
       "       4, 3, 1, 1, 1, 1, 2, 4, 2, 3, 2, 1, 1, 8, 1, 1, 3, 3, 2, 2, 2, 1, 4,\n",
       "       1, 2, 1, 1, 3, 2, 1, 3, 3, 1, 4, 2, 3, 2, 1, 2, 3, 2, 5, 4, 6, 1, 1,\n",
       "       1, 2, 1, 2, 1, 2, 2, 4, 3, 1, 1, 1, 3, 3])"
      ]
     },
     "execution_count": 11,
     "metadata": {},
     "output_type": "execute_result"
    }
   ],
   "source": [
    "K_i = sim_ideal(200)\n",
    "K_i"
   ]
  },
  {
   "cell_type": "markdown",
   "metadata": {},
   "source": [
    "## Apply both methods to the same k_i vector"
   ]
  },
  {
   "cell_type": "code",
   "execution_count": 12,
   "metadata": {
    "collapsed": false
   },
   "outputs": [
    {
     "name": "stdout",
     "output_type": "stream",
     "text": [
      "175 contributing parents\n",
      "400 gametes\n"
     ]
    },
    {
     "data": {
      "text/plain": [
       "194.16058394160584"
      ]
     },
     "execution_count": 12,
     "metadata": {},
     "output_type": "execute_result"
    }
   ],
   "source": [
    "pwop(K_i)"
   ]
  },
  {
   "cell_type": "code",
   "execution_count": 13,
   "metadata": {
    "collapsed": false
   },
   "outputs": [
    {
     "name": "stdout",
     "output_type": "stream",
     "text": [
      "175 contributing parents\n",
      "400 gametes\n"
     ]
    },
    {
     "data": {
      "text/plain": [
       "0.005150375939849624"
      ]
     },
     "execution_count": 13,
     "metadata": {},
     "output_type": "execute_result"
    }
   ],
   "source": [
    "p_share(K_i)"
   ]
  },
  {
   "cell_type": "code",
   "execution_count": 14,
   "metadata": {
    "collapsed": false
   },
   "outputs": [
    {
     "name": "stdout",
     "output_type": "stream",
     "text": [
      "175 contributing parents\n",
      "400 gametes\n"
     ]
    },
    {
     "data": {
      "text/plain": [
       "194.16058394160584"
      ]
     },
     "execution_count": 14,
     "metadata": {},
     "output_type": "execute_result"
    }
   ],
   "source": [
    "wang(p_share(K_i))"
   ]
  },
  {
   "cell_type": "markdown",
   "metadata": {
    "collapsed": true
   },
   "source": [
    "## Also compare to Crow (1954) & Crow and Denniston (1988) eq 1.\n",
    "the genesis of PWOP"
   ]
  },
  {
   "cell_type": "code",
   "execution_count": 15,
   "metadata": {
    "collapsed": true
   },
   "outputs": [],
   "source": [
    "def CnD(k_i):\n",
    "    top = np.mean(k_i) - 1 + np.var(k_i)/np.mean(k_i)\n",
    "    bottom = len(k_i)*np.mean(k_i)-1\n",
    "    Ne = bottom/top\n",
    "    return(Ne)"
   ]
  },
  {
   "cell_type": "code",
   "execution_count": 16,
   "metadata": {
    "collapsed": false
   },
   "outputs": [
    {
     "data": {
      "text/plain": [
       "194.16058394160586"
      ]
     },
     "execution_count": 16,
     "metadata": {},
     "output_type": "execute_result"
    }
   ],
   "source": [
    "CnD(K_i)"
   ]
  }
 ],
 "metadata": {
  "kernelspec": {
   "display_name": "Python 2",
   "language": "python",
   "name": "python2"
  },
  "language_info": {
   "codemirror_mode": {
    "name": "ipython",
    "version": 2
   },
   "file_extension": ".py",
   "mimetype": "text/x-python",
   "name": "python",
   "nbconvert_exporter": "python",
   "pygments_lexer": "ipython2",
   "version": "2.7.11"
  }
 },
 "nbformat": 4,
 "nbformat_minor": 0
}
