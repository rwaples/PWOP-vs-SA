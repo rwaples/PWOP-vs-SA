{
 "cells": [
  {
   "cell_type": "code",
   "execution_count": 1,
   "metadata": {
    "collapsed": true
   },
   "outputs": [],
   "source": [
    "import numpy as np\n",
    "from __future__ import division\n",
    "import itertools\n",
    "import collections"
   ]
  },
  {
   "cell_type": "markdown",
   "metadata": {},
   "source": [
    "## PWOP\n",
    "generates an Ne estimate from a vector of K_i values"
   ]
  },
  {
   "cell_type": "code",
   "execution_count": 2,
   "metadata": {
    "collapsed": true
   },
   "outputs": [],
   "source": [
    "def pwop(k_i):\n",
    "    \"\"\"from waples (2011)\"\"\"\n",
    "    assert type(k_i) is np.ndarray\n",
    "    print '{} contributing parents'.format(len(k_i))\n",
    "    print '{} gametes'.format(np.sum(k_i))\n",
    "    numerator = np.sum(k_i)-1\n",
    "    denominator = np.sum(k_i**2)/np.sum(k_i) - 1\n",
    "    Ne = numerator/denominator \n",
    "    return(Ne)"
   ]
  },
  {
   "cell_type": "markdown",
   "metadata": {},
   "source": [
    "#### example"
   ]
  },
  {
   "cell_type": "code",
   "execution_count": 91,
   "metadata": {
    "collapsed": false
   },
   "outputs": [
    {
     "data": {
      "text/plain": [
       "array([2, 2, 3, 7, 2, 5, 1])"
      ]
     },
     "execution_count": 91,
     "metadata": {},
     "output_type": "execute_result"
    }
   ],
   "source": [
    "K_i = np.array([2,2,3,7,2,5,1])\n",
    "K_i"
   ]
  },
  {
   "cell_type": "code",
   "execution_count": 92,
   "metadata": {
    "collapsed": false
   },
   "outputs": [
    {
     "name": "stdout",
     "output_type": "stream",
     "text": [
      "7 contributing parents\n",
      "22 gametes\n"
     ]
    },
    {
     "data": {
      "text/plain": [
       "6.2432432432432439"
      ]
     },
     "execution_count": 92,
     "metadata": {},
     "output_type": "execute_result"
    }
   ],
   "source": [
    "pwop(K_i)"
   ]
  },
  {
   "cell_type": "markdown",
   "metadata": {},
   "source": [
    "## p_share\n",
    "calculates the probability that two gametes taken at random from a sample specified by a K_i vector share the same parent"
   ]
  },
  {
   "cell_type": "code",
   "execution_count": 71,
   "metadata": {
    "collapsed": true
   },
   "outputs": [],
   "source": [
    "def p_share(k_i):\n",
    "    \"\"\"chance two random gametes present in the offspring generation are from the same parent\"\"\"\n",
    "    N = np.int(np.sum(k_i)) # number of offspring or parents\n",
    "    print '{} contributing parents'.format(len(k_i))\n",
    "    print '{} gametes'.format(N)\n",
    "    p = 1./(N*(N-1)) * np.sum(k_i*(k_i-1))\n",
    "    return(p)"
   ]
  },
  {
   "cell_type": "markdown",
   "metadata": {},
   "source": [
    "#### example"
   ]
  },
  {
   "cell_type": "code",
   "execution_count": 89,
   "metadata": {
    "collapsed": false
   },
   "outputs": [
    {
     "data": {
      "text/plain": [
       "array([2, 2, 3, 7, 2, 5, 1])"
      ]
     },
     "execution_count": 89,
     "metadata": {},
     "output_type": "execute_result"
    }
   ],
   "source": [
    "K_i"
   ]
  },
  {
   "cell_type": "code",
   "execution_count": 90,
   "metadata": {
    "collapsed": false
   },
   "outputs": [
    {
     "name": "stdout",
     "output_type": "stream",
     "text": [
      "7 contributing parents\n",
      "22 gametes\n"
     ]
    },
    {
     "data": {
      "text/plain": [
       "0.16017316017316016"
      ]
     },
     "execution_count": 90,
     "metadata": {},
     "output_type": "execute_result"
    }
   ],
   "source": [
    "p_share(K_i)"
   ]
  },
  {
   "cell_type": "markdown",
   "metadata": {},
   "source": [
    "## Wang 2009\n",
    "Given the chance that two random gametes share a parent, return the Ne\n",
    "\n",
    "Not sure this should be called \"wang\" any more - this is basically the definition of inbreeding Ne "
   ]
  },
  {
   "cell_type": "code",
   "execution_count": 93,
   "metadata": {
    "collapsed": true
   },
   "outputs": [],
   "source": [
    "def wang(p_same_parent):\n",
    "    \"\"\"simplified version of Wang (2009) eq. 10\n",
    "    p_same_parent = the chance that two random gametes are from the same parent \n",
    "    assumes alpha = 0 (i.e. Fis = 0)\n",
    "    p_same_parent stands in for the sum of the Q1+Q2+2*Q3 - see equation 8\n",
    "    remove the factor of 1/4, as we are dealing with gametes instead of individuals\"\"\"\n",
    "    return(1/(p_same_parent))"
   ]
  },
  {
   "cell_type": "code",
   "execution_count": 94,
   "metadata": {
    "collapsed": false
   },
   "outputs": [
    {
     "name": "stdout",
     "output_type": "stream",
     "text": [
      "7 contributing parents\n",
      "22 gametes\n"
     ]
    },
    {
     "data": {
      "text/plain": [
       "6.243243243243244"
      ]
     },
     "execution_count": 94,
     "metadata": {},
     "output_type": "execute_result"
    }
   ],
   "source": [
    "wang(p_share(K_i))"
   ]
  },
  {
   "cell_type": "markdown",
   "metadata": {},
   "source": [
    "## Simulate an ideal mating population\n",
    "Generates the K_i vector from one generation of random mating of N parents"
   ]
  },
  {
   "cell_type": "code",
   "execution_count": 95,
   "metadata": {
    "collapsed": true
   },
   "outputs": [],
   "source": [
    "def sim_ideal(N):\n",
    "    \"\"\"Generates the K_i vector from one generation of random mating of N parents\"\"\"\n",
    "    a = collections.defaultdict(int)\n",
    "    for xx in np.random.randint(0, N, 2*N): # For each of 2N gametes select a parent\n",
    "        a[xx]+=1 # assign an gamete to that parent\n",
    "    k_i = np.array(a.values())   \n",
    "    print '{} contributing parents'.format(len(k_i))\n",
    "    print '{} gametes'.format(np.sum(k_i))\n",
    "    return(k_i)"
   ]
  },
  {
   "cell_type": "code",
   "execution_count": 99,
   "metadata": {
    "collapsed": false
   },
   "outputs": [
    {
     "name": "stdout",
     "output_type": "stream",
     "text": [
      "176 contributing parents\n",
      "400 gametes\n",
      "Variance in k_i values: 1.42561983471\n"
     ]
    },
    {
     "data": {
      "text/plain": [
       "array([2, 3, 2, 4, 2, 4, 3, 2, 2, 2, 2, 2, 3, 2, 1, 4, 5, 2, 2, 3, 2, 2, 1,\n",
       "       4, 2, 3, 1, 3, 2, 1, 2, 2, 1, 2, 2, 2, 2, 4, 3, 1, 1, 2, 4, 4, 1, 2,\n",
       "       1, 1, 1, 2, 3, 1, 1, 4, 1, 1, 4, 4, 3, 3, 3, 2, 1, 2, 1, 1, 2, 1, 3,\n",
       "       2, 4, 3, 2, 1, 3, 3, 2, 4, 1, 6, 3, 2, 3, 1, 2, 1, 2, 3, 1, 1, 1, 1,\n",
       "       3, 5, 5, 5, 2, 2, 3, 1, 2, 2, 2, 2, 4, 1, 2, 3, 6, 1, 1, 1, 2, 2, 1,\n",
       "       2, 1, 1, 1, 2, 1, 1, 2, 2, 3, 2, 2, 5, 5, 1, 2, 2, 3, 3, 2, 2, 3, 2,\n",
       "       3, 1, 3, 5, 1, 1, 3, 2, 2, 2, 1, 1, 1, 3, 1, 3, 2, 1, 3, 2, 1, 1, 2,\n",
       "       3, 3, 3, 1, 4, 3, 1, 1, 3, 3, 5, 5, 4, 1, 1])"
      ]
     },
     "execution_count": 99,
     "metadata": {},
     "output_type": "execute_result"
    }
   ],
   "source": [
    "K_i = sim_ideal(200)\n",
    "print 'Variance in k_i values: {}'.format(np.var(K_i))\n",
    "K_i"
   ]
  },
  {
   "cell_type": "code",
   "execution_count": 106,
   "metadata": {
    "collapsed": false
   },
   "outputs": [
    {
     "name": "stdout",
     "output_type": "stream",
     "text": [
      "176 contributing parents\n",
      "400 gametes\n"
     ]
    },
    {
     "data": {
      "text/plain": [
       "210.0"
      ]
     },
     "execution_count": 106,
     "metadata": {},
     "output_type": "execute_result"
    }
   ],
   "source": [
    "pwop(K_i)"
   ]
  },
  {
   "cell_type": "code",
   "execution_count": 107,
   "metadata": {
    "collapsed": false
   },
   "outputs": [
    {
     "name": "stdout",
     "output_type": "stream",
     "text": [
      "176 contributing parents\n",
      "400 gametes\n"
     ]
    },
    {
     "data": {
      "text/plain": [
       "0.004761904761904762"
      ]
     },
     "execution_count": 107,
     "metadata": {},
     "output_type": "execute_result"
    }
   ],
   "source": [
    "p_share(K_i)"
   ]
  },
  {
   "cell_type": "code",
   "execution_count": 108,
   "metadata": {
    "collapsed": false
   },
   "outputs": [
    {
     "name": "stdout",
     "output_type": "stream",
     "text": [
      "176 contributing parents\n",
      "400 gametes\n"
     ]
    },
    {
     "data": {
      "text/plain": [
       "209.99999999999997"
      ]
     },
     "execution_count": 108,
     "metadata": {},
     "output_type": "execute_result"
    }
   ],
   "source": [
    "wang(p_share(K_i))"
   ]
  },
  {
   "cell_type": "code",
   "execution_count": null,
   "metadata": {
    "collapsed": true
   },
   "outputs": [],
   "source": []
  }
 ],
 "metadata": {
  "kernelspec": {
   "display_name": "Python 2",
   "language": "python",
   "name": "python2"
  },
  "language_info": {
   "codemirror_mode": {
    "name": "ipython",
    "version": 2
   },
   "file_extension": ".py",
   "mimetype": "text/x-python",
   "name": "python",
   "nbconvert_exporter": "python",
   "pygments_lexer": "ipython2",
   "version": "2.7.11"
  }
 },
 "nbformat": 4,
 "nbformat_minor": 0
}
