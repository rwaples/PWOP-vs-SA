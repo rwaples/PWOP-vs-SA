{
 "cells": [
  {
   "cell_type": "markdown",
   "metadata": {},
   "source": [
    "# Supplementary material for:\n",
    "### Effective number of breeders from sibship reconstruction: empirical evaluations using hatchery steelhead\n",
    "\n",
    "This supplementary notebook was written by Ryan Waples (ryan.waples@gmail.com)"
   ]
  },
  {
   "cell_type": "markdown",
   "metadata": {},
   "source": [
    "This document originated as a [Jupyter](http://jupyter.org/) notebook running Python 2.7."
   ]
  },
  {
   "cell_type": "code",
   "execution_count": 1,
   "metadata": {
    "collapsed": true
   },
   "outputs": [],
   "source": [
    "import numpy as np\n",
    "from __future__ import division\n",
    "import itertools\n",
    "import collections"
   ]
  },
  {
   "cell_type": "markdown",
   "metadata": {},
   "source": [
    "## Parentage analysis without parents (PWOP)\n",
    "Waples et. al. (2011) equation 2a, also Supplemental equation 2 in the current manuscipt.\n",
    "\n",
    "Produces an Ne estimate from a vector of k_i values using the equation:\n",
    "\n",
    "\\begin{equation}\n",
    " N_e = \\frac{\\sum_{}^{} k_i - 1}{\\frac{\\sum_{}^{} k_i^2}{\\sum_{}^{} k_i} -1 } \n",
    "\\end{equation}\n",
    "\n",
    "Where k_i is the number of offspring produced by parent i."
   ]
  },
  {
   "cell_type": "code",
   "execution_count": 2,
   "metadata": {
    "collapsed": true
   },
   "outputs": [],
   "source": [
    "def pwop(k_i):\n",
    "    assert type(k_i) is np.ndarray\n",
    "    print '{} contributing parents'.format(len(k_i))\n",
    "    print '{} gametes'.format(np.sum(k_i))\n",
    "    numerator = np.sum(k_i)-1\n",
    "    denominator = np.sum(k_i**2)/np.sum(k_i) - 1\n",
    "    Ne = numerator/denominator \n",
    "    return(Ne)"
   ]
  },
  {
   "cell_type": "markdown",
   "metadata": {},
   "source": [
    "#### example"
   ]
  },
  {
   "cell_type": "code",
   "execution_count": 3,
   "metadata": {
    "collapsed": false
   },
   "outputs": [
    {
     "name": "stdout",
     "output_type": "stream",
     "text": [
      "7 contributing parents\n",
      "22 gametes\n",
      "The PWOP Ne estimate is: 6.243\n"
     ]
    }
   ],
   "source": [
    "K_i = np.array([2,2,3,7,2,5,1])\n",
    "print('The PWOP Ne estimate is: {:1.3f}'.format(pwop(K_i)))"
   ]
  },
  {
   "cell_type": "markdown",
   "metadata": {},
   "source": [
    "## p_same\n",
    "calculates the probability that two gametes sampled at random from a k_i vector share the same parent. "
   ]
  },
  {
   "cell_type": "markdown",
   "metadata": {},
   "source": [
    "\\begin{equation}\n",
    " p\\_same = \\frac{1}{N(N-1)} \\sum_{i=1}^{N} (k_i(k_i-1))\n",
    "\\end{equation}"
   ]
  },
  {
   "cell_type": "markdown",
   "metadata": {},
   "source": [
    "Where N is the number of parent (or offspring) gametes."
   ]
  },
  {
   "cell_type": "code",
   "execution_count": 4,
   "metadata": {
    "collapsed": true
   },
   "outputs": [],
   "source": [
    "def p_same(k_i):\n",
    "    \"\"\"chance that two random gametes present in the offspring generation are from the same parent\"\"\"\n",
    "    N = np.int(np.sum(k_i)) # 2x number of offspring or parents\n",
    "    print '{} contributing parents'.format(len(k_i))\n",
    "    print '{} gametes'.format(N)\n",
    "    p = 1./(N*(N-1)) * np.sum(k_i*(k_i-1))\n",
    "    return(p)"
   ]
  },
  {
   "cell_type": "code",
   "execution_count": 5,
   "metadata": {
    "collapsed": false
   },
   "outputs": [
    {
     "name": "stdout",
     "output_type": "stream",
     "text": [
      "2 contributing parents\n",
      "6 gametes\n"
     ]
    },
    {
     "data": {
      "text/plain": [
       "0.4666666666666667"
      ]
     },
     "execution_count": 5,
     "metadata": {},
     "output_type": "execute_result"
    }
   ],
   "source": [
    "p_same(np.array([4,2]))"
   ]
  },
  {
   "cell_type": "markdown",
   "metadata": {},
   "source": [
    "#### example"
   ]
  },
  {
   "cell_type": "code",
   "execution_count": 6,
   "metadata": {
    "collapsed": false
   },
   "outputs": [
    {
     "name": "stdout",
     "output_type": "stream",
     "text": [
      "[2 2 3 7 2 5 1]\n",
      "7 contributing parents\n",
      "22 gametes\n",
      "The chance two gametes share a parent: 0.160\n"
     ]
    }
   ],
   "source": [
    "# use the same k_i vector\n",
    "print(K_i)\n",
    "print('The chance two gametes share a parent: {:1.3f}'.format(p_same(K_i)))"
   ]
  },
  {
   "cell_type": "markdown",
   "metadata": {},
   "source": [
    "## COLONY method of Ne estimation.\n",
    "Wang (2009): \"Equations for the effective size ($N_e$) of a population were derived in terms of the frequencies of a pair of offspring taken at random from the population being sibs sharing the same one or two parents\"  \n",
    "\n",
    "Wang (2009) eq. 10:\n",
    "\n",
    "\\begin{equation}\n",
    "\\frac{1}{N_e} = \\frac{1+3\\alpha}{4}(Q_1+Q_2+2Q_3)-\\frac{\\alpha}{2}(\\frac{1}{N_1}+\\frac{1}{N_2})\n",
    "\\end{equation}\n",
    "\n",
    "Where $\\alpha$ is a measure of departure from Hardy-Weinberg equilibrium, $Q_1$, $Q_2$, and $Q_3$ are the probabilities of a pair of offspring being paternal half-siblings, maternal half-siblings, and full-siblings, respectively. $N_1$ and $N_2$ are the number of male and female parents."
   ]
  },
  {
   "cell_type": "markdown",
   "metadata": {},
   "source": [
    "We will assume alpha = 0 (i.e. complete HWE). The equation simplifies to:\n",
    "\n",
    "\\begin{equation}\n",
    "\\frac{1}{N_e} = \\frac{1}{4}(Q_1+Q_2+2Q_3)\n",
    "\\end{equation}"
   ]
  },
  {
   "cell_type": "markdown",
   "metadata": {},
   "source": [
    "(Q1+Q2+2*Q3)/4 is eqivalent to p_same (Wang 2009, equation 8), so we simplify to:\n",
    "\\begin{equation}\n",
    "\\frac{1}{N_e} = p\\_same\n",
    "\\end{equation}"
   ]
  },
  {
   "cell_type": "markdown",
   "metadata": {},
   "source": [
    "But notice the impact of the simplifications, we lose all consideration of separate sexes and assuming alpha = 0, may not be reasonable, especially for small populations."
   ]
  },
  {
   "cell_type": "code",
   "execution_count": 7,
   "metadata": {
    "collapsed": true
   },
   "outputs": [],
   "source": [
    "def COLONY(p_same_parent):\n",
    "    \"\"\"Given the chance that two random gametes share a parent, return the Ne\"\"\"\n",
    "    Ne = 1./p_same_parent\n",
    "    return(Ne)"
   ]
  },
  {
   "cell_type": "code",
   "execution_count": 8,
   "metadata": {
    "collapsed": false
   },
   "outputs": [
    {
     "name": "stdout",
     "output_type": "stream",
     "text": [
      "7 contributing parents\n",
      "22 gametes\n",
      "The COLONY Ne estimate is: 6.243\n"
     ]
    }
   ],
   "source": [
    "print('The COLONY Ne estimate is: {:1.3f}'.format(COLONY(p_same(K_i))))"
   ]
  },
  {
   "cell_type": "markdown",
   "metadata": {},
   "source": [
    "## Simulate an ideal mating population\n",
    "Generates a K_i vector from one generation of random mating of N parents producing N offspring (total of 2N gametes). The result excludes parents that do not contribute offspring. "
   ]
  },
  {
   "cell_type": "code",
   "execution_count": 9,
   "metadata": {
    "collapsed": true
   },
   "outputs": [],
   "source": [
    "def sim_ideal(N):\n",
    "    \"\"\"Generates a K_i vector from one generation of random mating of N parents\"\"\"\n",
    "    a = collections.defaultdict(int)\n",
    "    for xx in np.random.randint(0, N, 2*N): # For each of 2N gametes select a parent\n",
    "        a[xx]+=1 # assign the gamete to that parent\n",
    "    k_i = np.array(a.values())\n",
    "    print '{} contributing parents'.format(len(k_i))\n",
    "    print '{} gametes'.format(np.sum(k_i))\n",
    "    return(k_i)"
   ]
  },
  {
   "cell_type": "code",
   "execution_count": 10,
   "metadata": {
    "collapsed": false
   },
   "outputs": [
    {
     "name": "stdout",
     "output_type": "stream",
     "text": [
      "168 contributing parents\n",
      "400 gametes\n",
      "[1 1 2 3 1 1 3 4 1 3 3 1 2 1 2 2 3 2 5 1 2 1 1 3 2 1 4 3 2 2 1 1 2 1 5 2 3\n",
      " 2 4 1 1 1 1 3 3 3 1 1 1 2 2 1 3 3 1 1 2 1 2 3 5 3 2 3 3 2 2 2 2 4 3 7 2 4\n",
      " 3 2 4 4 1 1 3 1 2 3 5 2 3 1 2 2 3 2 2 1 1 4 1 6 1 2 3 2 3 5 2 2 3 1 4 2 1\n",
      " 5 3 1 3 3 6 3 2 5 2 2 2 3 1 2 3 4 1 2 6 1 4 4 1 5 2 4 1 4 1 2 1 2 3 4 2 2\n",
      " 1 2 1 2 3 4 3 2 3 2 2 1 4 1 1 3 2 1 3 2]\n"
     ]
    }
   ],
   "source": [
    "K_i = sim_ideal(200)\n",
    "print (K_i)"
   ]
  },
  {
   "cell_type": "markdown",
   "metadata": {},
   "source": [
    "## Apply both methods to the simulated k_i vector"
   ]
  },
  {
   "cell_type": "code",
   "execution_count": 11,
   "metadata": {
    "collapsed": false
   },
   "outputs": [
    {
     "name": "stdout",
     "output_type": "stream",
     "text": [
      "168 contributing parents\n",
      "400 gametes\n"
     ]
    },
    {
     "data": {
      "text/plain": [
       "0.0051879699248120305"
      ]
     },
     "execution_count": 11,
     "metadata": {},
     "output_type": "execute_result"
    }
   ],
   "source": [
    "p_same(K_i)"
   ]
  },
  {
   "cell_type": "code",
   "execution_count": 12,
   "metadata": {
    "collapsed": false
   },
   "outputs": [
    {
     "name": "stdout",
     "output_type": "stream",
     "text": [
      "168 contributing parents\n",
      "400 gametes\n"
     ]
    },
    {
     "data": {
      "text/plain": [
       "192.75362318840581"
      ]
     },
     "execution_count": 12,
     "metadata": {},
     "output_type": "execute_result"
    }
   ],
   "source": [
    "pwop(K_i)"
   ]
  },
  {
   "cell_type": "code",
   "execution_count": 13,
   "metadata": {
    "collapsed": false
   },
   "outputs": [
    {
     "name": "stdout",
     "output_type": "stream",
     "text": [
      "168 contributing parents\n",
      "400 gametes\n"
     ]
    },
    {
     "data": {
      "text/plain": [
       "192.75362318840578"
      ]
     },
     "execution_count": 13,
     "metadata": {},
     "output_type": "execute_result"
    }
   ],
   "source": [
    "COLONY(p_same(K_i))"
   ]
  },
  {
   "cell_type": "markdown",
   "metadata": {
    "collapsed": true
   },
   "source": [
    "## Also compare to Crow (1954) & Crow and Denniston (1988) eq 1:\n",
    "\\begin{equation}\n",
    "\\frac{1}{N_e} = \\frac{ \\bar{k_i} - 1 + \\frac{Var(k_i)}{\\bar{k_i}}  }\n",
    "{N \\bar{k_i} -1}\n",
    "\\end{equation}"
   ]
  },
  {
   "cell_type": "code",
   "execution_count": 14,
   "metadata": {
    "collapsed": true
   },
   "outputs": [],
   "source": [
    "def Crow_Denniston(k_i):\n",
    "    top = np.mean(k_i) - 1 + np.var(k_i)/np.mean(k_i)\n",
    "    bottom = len(k_i)*np.mean(k_i)-1\n",
    "    Ne = bottom/top\n",
    "    return(Ne)"
   ]
  },
  {
   "cell_type": "code",
   "execution_count": 15,
   "metadata": {
    "collapsed": false
   },
   "outputs": [
    {
     "data": {
      "text/plain": [
       "192.75362318840581"
      ]
     },
     "execution_count": 15,
     "metadata": {},
     "output_type": "execute_result"
    }
   ],
   "source": [
    "Crow_Denniston(K_i)"
   ]
  },
  {
   "cell_type": "markdown",
   "metadata": {},
   "source": [
    "# References\n",
    "Crow, James F., and Carter Denniston. \"Inbreeding and variance effective population numbers.\" *Evolution* (1988): 482-495.\n",
    "\n",
    "Jones, Owen R., and Jinliang Wang. \"COLONY: a program for parentage and sibship inference from multilocus genotype data.\" *Molecular ecology resources* 10.3 (2010): 551-555.\n",
    "\n",
    "Wang, Jinliang. \"A new method for estimating effective population sizes from a single sample of multilocus genotypes.\" *Molecular Ecology* 18.10 (2009): 2148-2164.\n",
    "\n",
    "Waples, Robin S., and Ryan K. Waples. \"Inbreeding effective population size and parentage analysis without parents.\" *Molecular ecology resource* 11.s1 (2011): 162-171."
   ]
  },
  {
   "cell_type": "code",
   "execution_count": null,
   "metadata": {
    "collapsed": true
   },
   "outputs": [],
   "source": []
  }
 ],
 "metadata": {
  "kernelspec": {
   "display_name": "Python [Root]",
   "language": "python",
   "name": "Python [Root]"
  },
  "language_info": {
   "codemirror_mode": {
    "name": "ipython",
    "version": 2
   },
   "file_extension": ".py",
   "mimetype": "text/x-python",
   "name": "python",
   "nbconvert_exporter": "python",
   "pygments_lexer": "ipython2",
   "version": "2.7.12"
  }
 },
 "nbformat": 4,
 "nbformat_minor": 0
}
